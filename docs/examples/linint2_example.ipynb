{
  "cells": [
    {
      "cell_type": "markdown",
      "metadata": {},
      "source": [
        "\n",
        "# Linint2 Example\n",
        "This script illustrates the following concepts:\n",
        "\n",
        "- Usage of geocat-comp's `linint2` function\n",
        "- Bilinear Interpolation from a rectilinear grid to another rectilinear grid\n",
        "- Usage of geocat-datafiles for accessing NetCDF files\n",
        "- Usage of geocat-viz plotting convenience functions\n",
        "\n",
        "See following GitHub repositories to see further information about the function and to access data:\n",
        "    - For `linint2` function: https://github.com/NCAR/geocat-comp"
      ]
    },
    {
      "cell_type": "markdown",
      "metadata": {},
      "source": [
        "## Import packages\n",
        "\n",
        "Dependencies:\n",
        "- geocat.comp\n",
        "- geocat.datafiles (Not necessary but for conveniently accessing the NetCDF data file)\n",
        "- geocat.viz (Not necessary but for plotting convenience)\n",
        "- numpy\n",
        "- xarray\n",
        "- cartopy\n",
        "- matplotlib\n",
        "- mpl_toolkits"
      ]
    },
    {
      "cell_type": "code",
      "execution_count": null,
      "metadata": {
        "collapsed": false
      },
      "outputs": [],
      "source": [
        "import cartopy.crs as ccrs\n",
        "import matplotlib.pyplot as plt\n",
        "import numpy as np\n",
        "import xarray as xr\n",
        "from cartopy.mpl.geoaxes import GeoAxes\n",
        "from matplotlib import cm\n",
        "from mpl_toolkits.axes_grid1 import AxesGrid\n",
        "\n",
        "import geocat.datafiles as gdf\n",
        "from geocat.comp import linint2"
      ]
    },
    {
      "cell_type": "markdown",
      "metadata": {},
      "source": [
        "## Read in data\n",
        "\n",
        "For \"sst.nc\" file: https://github.com/NCAR/geocat-datafiles/tree/main/netcdf_files"
      ]
    },
    {
      "cell_type": "code",
      "execution_count": null,
      "metadata": {
        "collapsed": false
      },
      "outputs": [],
      "source": [
        "# Open a netCDF data file using xarray default engine and load the data\n",
        "# into xarray.DataArrays\n",
        "ds = xr.open_dataset(gdf.get('netcdf_files/sst.nc'))\n",
        "sst = ds.TEMP[0, 0, :, :].chunk()\n",
        "lat = ds.LAT[:]\n",
        "lon = ds.LON[:]"
      ]
    },
    {
      "cell_type": "markdown",
      "metadata": {},
      "source": [
        "## Calculate something\n",
        "\n"
      ]
    },
    {
      "cell_type": "code",
      "execution_count": null,
      "metadata": {
        "collapsed": false
      },
      "outputs": [],
      "source": [
        "# GeoCAT-comp function call:\n",
        "\n",
        "# Provide (output) interpolation grid\n",
        "newlat = np.linspace(min(lat), max(lat), 24)\n",
        "newlon = np.linspace(min(lon), max(lon), 72)\n",
        "\n",
        "# Invoke `linint2` from `geocat.comp`\n",
        "newsst = linint2(sst, newlon, newlat, icycx=False)"
      ]
    },
    {
      "cell_type": "markdown",
      "metadata": {},
      "source": [
        "## Plot\n",
        "\n",
        "Any explanatory text on the figures."
      ]
    },
    {
      "cell_type": "code",
      "execution_count": null,
      "metadata": {
        "collapsed": false
      },
      "outputs": [],
      "source": [
        "# Generate figure and set its size (width, height) in inches\n",
        "fig = plt.figure(figsize=(10, 8))\n",
        "\n",
        "# Generate Axes grid using a Cartopy projection\n",
        "projection = ccrs.PlateCarree()\n",
        "axes_class = (GeoAxes, dict(map_projection=projection))\n",
        "axgr = AxesGrid(fig,\n",
        "                111,\n",
        "                axes_class=axes_class,\n",
        "                nrows_ncols=(2, 1),\n",
        "                axes_pad=0.7,\n",
        "                cbar_location='right',\n",
        "                cbar_mode='single',\n",
        "                cbar_pad=0.5,\n",
        "                cbar_size='3%',\n",
        "                label_mode='')  # note the empty label_mode\n",
        "\n",
        "# Create a dictionary for common plotting options for both subplots\n",
        "plot_options = dict(transform=projection,\n",
        "                    cmap=cm.jet,\n",
        "                    vmin=-30,\n",
        "                    vmax=30,\n",
        "                    levels=16,\n",
        "                    extend='neither',\n",
        "                    add_colorbar=False,\n",
        "                    add_labels=False)\n",
        "\n",
        "# Plot original grid and linint2 interpolations as two subplots\n",
        "# within the figure\n",
        "for i, ax in enumerate(axgr):\n",
        "\n",
        "    # Plot contours for both the subplots\n",
        "    if (i == 0):\n",
        "        sst.plot.contourf(ax=ax, **plot_options)\n",
        "        ax.set_title('Original Grid', fontsize=14, fontweight='bold', y=1.04)\n",
        "    else:\n",
        "        p = newsst.plot.contourf(ax=ax, **plot_options)\n",
        "        ax.set_title('Regrid (to coarse) - linint2',\n",
        "                     fontsize=14,\n",
        "                     fontweight='bold',\n",
        "                     y=1.04)\n",
        "\n",
        "    # Add coastlines to the subplots\n",
        "    ax.coastlines()\n",
        "\n",
        "    # Use geocat.viz.util convenience function to add minor and major tick\n",
        "    # lines\n",
        "    gv.add_major_minor_ticks(ax)\n",
        "\n",
        "    # Use geocat.viz.util convenience function to set axes limits & tick\n",
        "    # values without calling several matplotlib functions\n",
        "    gv.set_axes_limits_and_ticks(ax,\n",
        "                                 xticks=np.linspace(-180, 180, 13),\n",
        "                                 yticks=np.linspace(-60, 60, 5))\n",
        "\n",
        "    # Use geocat.viz.util convenience function to make plots look like NCL\n",
        "    # plots by using latitude, longitude tick labels\n",
        "    gv.add_lat_lon_ticklabels(ax, zero_direction_label=False)\n",
        "\n",
        "# Add color bar and label details (title, size, etc.)\n",
        "cax = axgr.cbar_axes[0]\n",
        "cax.colorbar(p)\n",
        "axis = cax.axis[cax.orientation]\n",
        "axis.label.set_text(r'Temperature ($^{\\circ} C$)')\n",
        "axis.label.set_size(16)\n",
        "axis.major_ticklabels.set_size(10)\n",
        "\n",
        "plt.show()\n"
      ]
    }
  ],
  "metadata": {
    "kernelspec": {
      "display_name": "Python 3.9.6 64-bit",
      "language": "python",
      "name": "python3"
    },
    "language_info": {
      "codemirror_mode": {
        "name": "ipython",
        "version": 3
      },
      "file_extension": ".py",
      "mimetype": "text/x-python",
      "name": "python",
      "nbconvert_exporter": "python",
      "pygments_lexer": "ipython3",
      "version": "3.9.6"
    },
    "vscode": {
      "interpreter": {
        "hash": "31f2aee4e71d21fbe5cf8b01ff0e069b9275f58929596ceb00d14d90e3e16cd6"
      }
    }
  },
  "nbformat": 4,
  "nbformat_minor": 0
}

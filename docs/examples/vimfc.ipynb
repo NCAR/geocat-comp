{
 "cells": [
  {
   "cell_type": "markdown",
   "metadata": {},
   "source": [
    "# Vertically Integrated Moisture Flux Convergence\n",
    "\n",
    "This script illustrates calculating vertically integrated moisture flux convergence (MFC) for a dataset with a constant pressure level system.\n",
    "\n",
    "To calculate this, we must first leverage [`geocat.comp.meteorology.delta_pressure`](https://geocat-comp.readthedocs.io/en/latest/user_api/generated/geocat.comp.meteorology.delta_pressure.html) for the vertical integration, and then [`geocat.comp.gradient.gradient`](https://geocat-comp.readthedocs.io/en/latest/user_api/generated/geocat.comp.gradient.gradient.html#geocat.comp.gradient.gradient) to get our gradients on the surface of the WGS84 ellipsoid."
   ]
  },
  {
   "cell_type": "code",
   "execution_count": null,
   "metadata": {},
   "outputs": [],
   "source": [
    "import xarray as xr\n",
    "import numpy as np\n",
    "import geocat.comp as gc\n",
    "import geocat.datafiles as gcd\n",
    "import matplotlib.pyplot as plt\n",
    "import cartopy.crs as ccrs"
   ]
  },
  {
   "attachments": {},
   "cell_type": "markdown",
   "metadata": {},
   "source": [
    "# Load Data\n",
    "\n",
    "Here we load in a dummy Xarray Dataset with 2d zonal and meridional wind componenets (`u_wind` and `v_wind`), 3d water vapor (`q_vapor`), a 2d surface pressure array (`surface_pressure`), and a 1d pressure level system (`pressure_lev`)."
   ]
  },
  {
   "cell_type": "code",
   "execution_count": null,
   "metadata": {},
   "outputs": [],
   "source": [
    "ds = xr.open_dataset(gcd.get(\"netcdf_files/dummy_uvqp_data.nc\"))\n",
    "ds"
   ]
  },
  {
   "cell_type": "markdown",
   "metadata": {},
   "source": [
    "#  Vertical Integration\n",
    "\n",
    "To do a mass-weighted vertical integration of our 3d water vapor, we need to first get a layer mass weighting. This is our delta pressure levels, divide by the gravitational constant. Then, multiply the layer mass weighting by the water vapor variable, and integrate vertially. "
   ]
  },
  {
   "cell_type": "code",
   "execution_count": null,
   "metadata": {},
   "outputs": [],
   "source": [
    "delta_pressure_levels = gc.meteorology.delta_pressure(pressure_lev=ds.pressure_lev, surface_pressure=ds.surface_pressure)\n",
    "\n",
    "g = 9.80665 # gravitational acceleration (m s-2)\n",
    "layer_mass_weighting = delta_pressure_levels / g # Layer Mass Weighting\n",
    "layer_mass_weighting .attrs[\"units\"] = \"kg m-2\"\n",
    "\n",
    "mass_weighted_vapor = ds.q_vapor * layer_mass_weighting # mass weighted 'q'\n",
    "iq = mass_weighted_vapor.sum(dim=\"lev\") # Vertically Integrated Vapor\n",
    "iq.attrs[\"units\"] = \"g m-2\""
   ]
  },
  {
   "cell_type": "markdown",
   "metadata": {},
   "source": [
    "# Calculate Moisture Flux Convergence (MFC)\n",
    "\n",
    "The formula for MFC is as follows:\n",
    "\n",
    "$MFC =  -u*\\frac{dq}{dx} - v*\\frac{dq}{dy} - q(\\frac{du}{dx} + \\frac{dv}{dy})$\n",
    "\n",
    "where u represents the zonal wind component, v is the meridional wind componenet, and q is the moisture content (in our case, vertically integrated).\n",
    "\n",
    "The first two terms of this equation, $-u*\\frac{dq}{dx} - v*\\frac{dq}{dy}$, are together the advection term, and the last term, $q(\\frac{du}{dx} + \\frac{dv}{dy})$, is our convergence term, with moisture flux convergence being the advection minus the convergence.\n",
    "\n",
    "[Source: Banacos and Schultz, \"Moisture Flux Convergence\", NOAA 2004](https://www.spc.noaa.gov/publications/banacos/mfc-sls.pdf)\n",
    "\n",
    "To do this calculation, we first need the gradients of our wind components and moisture. We are using Geocat-comp's [`gradient`](https://geocat-comp.readthedocs.io/en/latest/user_api/generated/geocat.comp.gradient.gradient.html#geocat.comp.gradient.gradient) method because of its improved accuracy for geospatial data over an Earth-like ellipsoid."
   ]
  },
  {
   "cell_type": "code",
   "execution_count": null,
   "metadata": {},
   "outputs": [],
   "source": [
    "du_dx, du_dy = gc.gradient(ds.u_wind) # (s-1)\n",
    "dv_dx, dv_dy = gc.gradient(ds.v_wind)\n",
    "dq_dx, dq_dy = gc.gradient(iq) # (g m-3)"
   ]
  },
  {
   "cell_type": "code",
   "execution_count": null,
   "metadata": {},
   "outputs": [],
   "source": [
    "advection = (-u_wind * dq_dx) - (v_wind * dq_dy) # (g s-1 m-2)\n",
    "convergence = iq * np.add(du_dx, dv_dy) # (g s-1 m-2)\n",
    "\n",
    "mfc = advection - convergence # moisture flux convergence (g m-2 s-1)"
   ]
  },
  {
   "cell_type": "markdown",
   "metadata": {},
   "source": [
    "## Plot Data\n",
    "\n",
    "And finally we can view our moisture flux convergence."
   ]
  },
  {
   "cell_type": "code",
   "execution_count": null,
   "metadata": {},
   "outputs": [],
   "source": [
    "ax = plt.axes(projection=ccrs.PlateCarree())\n",
    "\n",
    "plt.contourf(lon, lat, mfc, transform=ccrs.PlateCarree())\n",
    "plt.title('Vertically Integrated Moisture Flux Convergence')\n",
    "ax.set_xlabel('Longitude')\n",
    "ax.set_ylabel('Latitude')\n",
    "\n",
    "cbar = plt.colorbar()\n",
    "cbar.set_label('Moisture Flux Convergence (g m-2 s-1)')\n",
    "\n",
    "ax.coastlines()\n",
    "\n",
    "\n",
    "gl = ax.gridlines(crs=ccrs.PlateCarree(), draw_labels=True,\n",
    "                  linewidth=2, color='gray', alpha=0.5, linestyle='--')\n",
    "gl.top_labels = False\n",
    "gl.right_labels = False;"
   ]
  }
 ],
 "metadata": {
  "kernelspec": {
   "display_name": "Python 3 (ipykernel)",
   "language": "python",
   "name": "python3"
  },
  "language_info": {
   "codemirror_mode": {
    "name": "ipython",
    "version": 3
   },
   "file_extension": ".py",
   "mimetype": "text/x-python",
   "name": "python",
   "nbconvert_exporter": "python",
   "pygments_lexer": "ipython3",
   "version": "3.10.9"
  },
  "vscode": {
   "interpreter": {
    "hash": "381b54afccee9598267c8baaae491dd55d0be135f8da59205e886deeefc8e214"
   }
  }
 },
 "nbformat": 4,
 "nbformat_minor": 2
}

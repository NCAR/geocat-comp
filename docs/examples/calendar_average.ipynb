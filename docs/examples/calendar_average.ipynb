{
  "cells": [
    {
      "cell_type": "markdown",
      "metadata": {},
      "source": [
        "\n",
        "# Calendar Averaging\n",
        "This script illustrates the following concepts:\n",
        "\n",
        "- Usage of geocat-comp's [calendar_average](https://geocat-comp.readthedocs.io/en/stable/user_api/generated/geocat.comp.climatologies.calendar_average.html) function.\n",
        "- Usage of geocat-datafiles for accessing NetCDF files\n",
        "- Creating a figure with stacked subplots\n"
      ]
    },
    {
      "cell_type": "markdown",
      "metadata": {},
      "source": [
        "## Import packages\n",
        "\n",
        "Dependencies:\n",
        "\n",
        "- geocat.comp\n",
        "- [geocat.datafiles](https://github.com/NCAR/geocat-datafiles) (for accessing data file only)\n",
        "- [cftime](https://unidata.github.io/cftime/) (installed with geocat.comp)\n",
        "- [matplotlib](https://matplotlib.org/) (installed with geocat.viz)\n",
        "- [xarray](https://docs.xarray.dev/en/stable/) (installed with geocat.comp)"
      ]
    },
    {
      "cell_type": "code",
      "execution_count": null,
      "metadata": {
        "collapsed": false
      },
      "outputs": [],
      "source": [
        "import cftime\n",
        "import matplotlib.pyplot as plt\n",
        "import xarray as xr\n",
        "\n",
        "from geocat.comp import calendar_average\n",
        "import geocat.datafiles as gdf\n",
        "import geocat.viz as gv;"
      ]
    },
    {
      "cell_type": "markdown",
      "metadata": {},
      "source": [
        "## Read in data\n",
        "\n",
        "We will get the data from the [geocat-datafiles](https://github.com/NCAR/geocat-datafiles) package. This package contains example data used in many of the examples for geocat packages.\n",
        "\n",
        "Then, we use xarray's [open_dataset](http://xarray.pydata.org/en/stable/generated/xarray.open_dataset.html) function to read the data into an xarray dataset, choose a single model from the ensemble run, and extract its surface temperature data into `temp`"
      ]
    },
    {
      "cell_type": "code",
      "execution_count": null,
      "metadata": {
        "collapsed": false
      },
      "outputs": [],
      "source": [
        "ds = xr.open_dataset(gdf.get('netcdf_files/atm.20C.hourly6-1990-1995-TS.nc'))\n",
        "ds = ds.isel(member_id=0)  # select one model from the ensemble\n",
        "\n",
        "temp = ds.TS  # surface temperature data"
      ]
    },
    {
      "cell_type": "markdown",
      "metadata": {},
      "source": [
        "## Calculate daily, monthly, and seasonal averages using `calendar_average`"
      ]
    },
    {
      "cell_type": "code",
      "execution_count": null,
      "metadata": {
        "collapsed": false
      },
      "outputs": [],
      "source": [
        "daily = calendar_average(temp, 'day')\n",
        "monthly = calendar_average(temp, 'month')\n",
        "season = calendar_average(temp, 'season')\n",
        "\n",
        "# Convert datetimes to number of hours since 1990-01-01 00:00:00\n",
        "# This must be done in order to use the time for the x axis\n",
        "time_num_raw = cftime.date2num(temp.time, 'hours since 1990-01-01 00:00:00')\n",
        "time_num_day = cftime.date2num(daily.time, 'hours since 1990-01-01 00:00:00')\n",
        "time_num_month = cftime.date2num(monthly.time,\n",
        "                                 'hours since 1990-01-01 00:00:00')\n",
        "time_num_season = cftime.date2num(season.time,\n",
        "                                  'hours since 1990-01-01 00:00:00')\n",
        "\n",
        "# Start and end time for axes limits in units of hours since 1990-01-01 00:00:00\n",
        "tstart = time_num_raw[0]\n",
        "tend = time_num_raw[-1]"
      ]
    },
    {
      "cell_type": "markdown",
      "metadata": {},
      "source": [
        "## Plot\n",
        "\n",
        "The top subplot is raw surface temperature data from a model run with a\n",
        "temporal resolution of 6-hours.\n",
        "\n",
        "The second subplot shows the output of the raw data being aggregated using the\n",
        "`calendar_average` function with the `freq` argument set to `daily`. This\n",
        "function averages all data points within each 24-hour period.\n",
        "\n",
        "The third subplot shows the output of `calendar_average` with the `freq`\n",
        "argument set to `monthly`. This works much the same as for the middle plot;\n",
        "however, the data is now grouped by month which yields a smoother curve.\n",
        "\n",
        "The bottom subplot shows the output of `calendar_average` with the `freq`\n",
        "argument set to `season`. This averages all data points in each meteorological\n",
        "season. Those seasons are each comprised of three month periods with the first\n",
        "consisting of December, January, and February for meteorological winter."
      ]
    },
    {
      "cell_type": "code",
      "execution_count": null,
      "metadata": {
        "collapsed": false
      },
      "outputs": [],
      "source": [
        "# Make three subplots with shared axes\n",
        "fig, ax = plt.subplots(4,\n",
        "                       1,\n",
        "                       figsize=(8, 10),\n",
        "                       sharex=True,\n",
        "                       sharey=True,\n",
        "                       constrained_layout=True)\n",
        "\n",
        "# Plot data\n",
        "ax[0].plot(time_num_raw, temp.data)\n",
        "ax[1].plot(time_num_day, daily.data)\n",
        "ax[2].plot(time_num_month, monthly.data)\n",
        "ax[3].plot(time_num_season, season.data)\n",
        "\n",
        "# Use geocat.viz.util convenience function to set axes parameters without\n",
        "# calling several matplotlib functions\n",
        "gv.set_axes_limits_and_ticks(ax[0],\n",
        "                             xlim=(tstart, tend + 1),\n",
        "                             xticks=range(tstart, tend + 1, 365 * 24),\n",
        "                             xticklabels=range(1990, 1997),\n",
        "                             ylim=(297, 304))\n",
        "\n",
        "# Use geocat.viz.util convenience function to set titles and labels\n",
        "gv.set_titles_and_labels(ax[0],\n",
        "                         ylabel='Raw Data (6-hourly)',\n",
        "                         lefttitle=temp.long_name,\n",
        "                         lefttitlefontsize=14,\n",
        "                         righttitle=temp.units,\n",
        "                         righttitlefontsize=14)\n",
        "\n",
        "gv.set_titles_and_labels(ax[1], ylabel='Daily Average')\n",
        "\n",
        "gv.set_titles_and_labels(ax[2], ylabel='Monthly Average')\n",
        "\n",
        "gv.set_titles_and_labels(ax[3],\n",
        "                         ylabel='Season Average',\n",
        "                         xlabel=temp.time.long_name)\n",
        "\n",
        "# Add title manually to control spacing\n",
        "fig.suptitle('Calendar Average on 6-hourly Data', fontsize=20)\n",
        "\n",
        "plt.show()"
      ]
    }
  ],
  "metadata": {
    "kernelspec": {
      "display_name": "geocatsandbox",
      "language": "python",
      "name": "python3"
    },
    "language_info": {
      "codemirror_mode": {
        "name": "ipython",
        "version": 3
      },
      "file_extension": ".py",
      "mimetype": "text/x-python",
      "name": "python",
      "nbconvert_exporter": "python",
      "pygments_lexer": "ipython3",
      "version": "3.10.9"
    },
    "vscode": {
      "interpreter": {
        "hash": "76f6e3664c9853c15e397863fc261589735ab57b43cd07b9231ee4701663ee64"
      }
    }
  },
  "nbformat": 4,
  "nbformat_minor": 0
}

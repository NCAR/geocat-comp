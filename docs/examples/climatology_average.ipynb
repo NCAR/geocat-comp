{
  "cells": [
    {
      "cell_type": "markdown",
      "metadata": {},
      "source": [
        "\n",
        "# Climatology Average\n",
        "This script illustrates the following concepts:\n",
        "\n",
        "- Usage of geocat-comp's [climatology_average](https://geocat-comp.readthedocs.io/en/latest/user_api/generated/geocat.comp.climatologies.climatology_average.html#geocat.comp.climatologies.climatology_average) function\n",
        "- Usage of geocat-datafiles for accessing NetCDF files\n",
        "- Creating a figure with stacked subplots"
      ]
    },
    {
      "cell_type": "markdown",
      "metadata": {},
      "source": [
        "## Import packages\n",
        "\n",
        "Dependencies:\n",
        "\n",
        "- geocat.comp\n",
        "- [geocat.datafiles](https://github.com/NCAR/geocat-datafiles) (for accessing data file only)\n",
        "- [cftime](https://unidata.github.io/cftime/) (installed with geocat.comp)\n",
        "- [matplotlib](https://matplotlib.org/) (installed with geocat.viz)\n",
        "- [xarray](https://docs.xarray.dev/en/stable/) (installed with geocat.comp)"
      ]
    },
    {
      "cell_type": "code",
      "execution_count": null,
      "metadata": {
        "collapsed": false
      },
      "outputs": [],
      "source": [
        "import cftime\n",
        "import matplotlib.pyplot as plt\n",
        "import xarray as xr\n",
        "\n",
        "from geocat.comp import climatology_average\n",
        "import geocat.datafiles as gdf"
      ]
    },
    {
      "cell_type": "markdown",
      "metadata": {},
      "source": [
        "## Read in data\n",
        "\n",
        "We will get the data from the [geocat-datafiles](https://github.com/NCAR/geocat-datafiles) package. This package contains example data used in many of the examples for geocat packages.\n",
        "\n",
        "Then, we use xarray's [open_dataset](http://xarray.pydata.org/en/stable/generated/xarray.open_dataset.html) function to read the data into an xarray dataset, choose a single model from the ensemble run, and extract its surface temperature data into `temp`"
      ]
    },
    {
      "cell_type": "code",
      "execution_count": null,
      "metadata": {
        "collapsed": false
      },
      "outputs": [],
      "source": [
        "ds = xr.open_dataset(gdf.get('netcdf_files/atm.20C.hourly6-1990-1995-TS.nc'))\n",
        "ds = ds.isel(member_id=0)  # select one model from the ensemble\n",
        "\n",
        "temp = ds.TS  # surface temperature data"
      ]
    },
    {
      "cell_type": "markdown",
      "metadata": {},
      "source": [
        "## Calculate daily and monthly climate averages using `climatology_average`\n",
        "\n",
        "\n",
        "Next, we use `geocat.comp.climatologies.climatology_average` to calculate averages across all years in a given dataset.\n",
        "\n",
        "Note that while daily and monthly climatology averages are demonstrated here, you could also use the frequency keyword argments `hour` or `season` to calculate hourly or seasonal climatology averages."
      ]
    },
    {
      "cell_type": "code",
      "execution_count": null,
      "metadata": {
        "collapsed": false
      },
      "outputs": [],
      "source": [
        "daily = climatology_average(temp, 'day')\n",
        "monthly = climatology_average(temp, 'month')\n",
        "\n",
        "# Convert datetimes to number of hours since 1990-01-01 00:00:00\n",
        "# This must be done in order to use the time for the x axis\n",
        "time_num_raw = cftime.date2num(temp.time, 'hours since 1990-01-01 00:00:00')\n",
        "time_num_day = cftime.date2num(daily.time, 'hours since 1990-01-01 00:00:00')\n",
        "time_num_month = cftime.date2num(monthly.time,\n",
        "                                 'hours since 1990-01-01 00:00:00')\n",
        "\n",
        "# Start and end time for axes limit in units of hours since 1990-01-01 00:00:00\n",
        "tstart = time_num_raw[0]\n",
        "tend = time_num_raw[-1]"
      ]
    },
    {
      "cell_type": "markdown",
      "metadata": {},
      "source": [
        "## Plot\n",
        "\n",
        "Next we'll create a simple plot to display our climatology data.\n",
        "\n",
        "The top subplot is raw surface temperature data from a model run with a\n",
        "temporal resolution of 6-hours.\n",
        "\n",
        "The middle subplot shows the output of the raw data being aggregated using the\n",
        "`climatology_average` function with the `freq` argument set to 'daily'. This\n",
        "function with that setting finds the average daily temperature for each day of\n",
        "the year. The output has adjusted datetimes instead of using integers to denote\n",
        "the day of the year for the time axis. The year for the outputted data is the\n",
        "floor of the median year of the inputted data, which is 1993 in this case.\n",
        "\n",
        "The bottom subplot shows the output of `climatology_average` with the `freq`\n",
        "argument set to `monthly`. This works much the same as for the middle plot;\n",
        "however, the data is now grouped by month which yeilds a smoother curve. The\n",
        "time axis is adjusted in the same way, except now there are only 12 data points\n",
        "with one for each month."
      ]
    },
    {
      "cell_type": "code",
      "execution_count": null,
      "metadata": {
        "collapsed": false
      },
      "outputs": [],
      "source": [
        "fig, ax = plt.subplots(3,\n",
        "                       1,\n",
        "                       figsize=(8, 10),\n",
        "                       sharex=True,\n",
        "                       sharey=True,\n",
        "                       constrained_layout=True)\n",
        "\n",
        "# Plot data\n",
        "ax[0].plot(time_num_raw, temp.data)\n",
        "ax[0].set_ylabel('Raw Data')\n",
        "\n",
        "ax[1].plot(time_num_day, daily.data)\n",
        "ax[1].set_ylabel('Daily Climatology')\n",
        "\n",
        "ax[2].plot(time_num_month, monthly.data)\n",
        "ax[2].set_ylabel('Monthly Climatology')\n",
        "\n",
        "ax.set_xlabel('Time')\n",
        "\n",
        "# Add title manually to control spacing\n",
        "title_str = 'Climatology Average on 6-hourly Data \\n ' + temp.long_name + ' (' + temp.units + ')'\n",
        "fig.suptitle(title_str, fontsize = 20)\n",
        "\n",
        "plt.show();"
      ]
    }
  ],
  "metadata": {
    "kernelspec": {
      "display_name": "Python 3.9.6 64-bit",
      "language": "python",
      "name": "python3"
    },
    "language_info": {
      "codemirror_mode": {
        "name": "ipython",
        "version": 3
      },
      "file_extension": ".py",
      "mimetype": "text/x-python",
      "name": "python",
      "nbconvert_exporter": "python",
      "pygments_lexer": "ipython3",
      "version": "3.9.6"
    },
    "vscode": {
      "interpreter": {
        "hash": "31f2aee4e71d21fbe5cf8b01ff0e069b9275f58929596ceb00d14d90e3e16cd6"
      }
    }
  },
  "nbformat": 4,
  "nbformat_minor": 0
}

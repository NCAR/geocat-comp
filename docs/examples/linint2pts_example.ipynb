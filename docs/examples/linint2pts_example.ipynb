{
  "cells": [
    {
      "cell_type": "markdown",
      "metadata": {},
      "source": [
        "\n",
        "# Linint2pts\n",
        "This script illustrates the following concepts:\n",
        "\n",
        "- Usage of geocat-comp's `linint2pts` function\n",
        "- Bilinear interpolation from a rectilinear grid to an unstructured grid or locations\n",
        "- Usage of geocat-datafiles for accessing NetCDF files\n",
        "- Usage of geocat-viz plotting convenience functions\n"
      ]
    },
    {
      "cell_type": "markdown",
      "metadata": {},
      "source": [
        "## Import packages\n",
        "\n",
        "Dependencies:\n",
        "- geocat.comp\n",
        "- geocat.datafiles (Not necessary but for conveniently accessing the NetCDF data file)\n",
        "- geocat.viz (Not necessary but for plotting convenience)\n",
        "- numpy\n",
        "- xarray\n",
        "- cartopy\n",
        "- matplotlib\n",
        "- mpl_toolkits"
      ]
    },
    {
      "cell_type": "code",
      "execution_count": null,
      "metadata": {
        "collapsed": false
      },
      "outputs": [],
      "source": [
        "import cartopy.crs as ccrs\n",
        "import matplotlib.pyplot as plt\n",
        "import numpy as np\n",
        "import xarray as xr\n",
        "from cartopy.mpl.geoaxes import GeoAxes\n",
        "from matplotlib import cm\n",
        "from mpl_toolkits.axes_grid1 import AxesGrid\n",
        "\n",
        "import geocat.datafiles as gdf\n",
        "from geocat.comp import linint2pts"
      ]
    },
    {
      "cell_type": "markdown",
      "metadata": {},
      "source": [
        "## Read in data\n",
        "\n",
        "For \"sst.nc\" data file: https://github.com/NCAR/geocat-datafiles/tree/main/netcdf_files"
      ]
    },
    {
      "cell_type": "code",
      "execution_count": null,
      "metadata": {
        "collapsed": false
      },
      "outputs": [],
      "source": [
        "# Open a netCDF data file (Sea surface temperature) using xarray default\n",
        "# engine and load the data into xarrays\n",
        "ds = xr.open_dataset(gdf.get('netcdf_files/sst.nc'))\n",
        "\n",
        "sst = ds.TEMP[0, 0, :, :].chunk()\n",
        "lat = ds.LAT[:]\n",
        "lon = ds.LON[:]"
      ]
    },
    {
      "cell_type": "markdown",
      "metadata": {},
      "source": [
        "## Calculate something\n",
        "\n",
        "Describe the calculations"
      ]
    },
    {
      "cell_type": "code",
      "execution_count": null,
      "metadata": {
        "collapsed": false
      },
      "outputs": [],
      "source": [
        "# GeoCAT-comp function call:\n",
        "\n",
        "# Provide (output) interpolation locations. This script uses 3000 arbitrary\n",
        "# locations world-wide in order to demonstrate an extensive comparison of the\n",
        "# linint2pts outputs to the original grid throughout the globe. The function\n",
        "# can even be used for a single location though.\n",
        "newlat = np.random.uniform(low=min(lat), high=max(lat), size=(3000,))\n",
        "newlon = np.random.uniform(low=min(lon), high=max(lon), size=(3000,))\n",
        "\n",
        "# Call `linint2pts` from `geocat-comp`\n",
        "newsst = linint2pts(sst, newlon, newlat, False)"
      ]
    },
    {
      "cell_type": "markdown",
      "metadata": {},
      "source": [
        "## Plot\n",
        "\n",
        "Any explanatory text on the figures."
      ]
    },
    {
      "cell_type": "code",
      "execution_count": null,
      "metadata": {
        "collapsed": false
      },
      "outputs": [],
      "source": [
        "# Generate figure and set its size (width, height) in inches\n",
        "fig = plt.figure(figsize=(10, 8))\n",
        "\n",
        "# Generate Axes grid using a Cartopy projection\n",
        "projection = ccrs.PlateCarree()\n",
        "axes_class = (GeoAxes, dict(map_projection=projection))\n",
        "axgr = AxesGrid(fig,\n",
        "                111,\n",
        "                axes_class=axes_class,\n",
        "                nrows_ncols=(2, 1),\n",
        "                axes_pad=0.7,\n",
        "                cbar_location='right',\n",
        "                cbar_mode='single',\n",
        "                cbar_pad=0.5,\n",
        "                cbar_size='3%',\n",
        "                label_mode='')\n",
        "\n",
        "# Create a dictionary for common plotting options for both subplots\n",
        "common_options = dict(vmin=-30, vmax=30, cmap=cm.jet)\n",
        "\n",
        "# Plot original grid and linint2pts interpolations as two subplots\n",
        "# within the figure\n",
        "for i, ax in enumerate(axgr):\n",
        "\n",
        "    # Plot original grid and linint2pts interpolations within the subplots\n",
        "    if (i == 0):\n",
        "        p = sst.plot.contourf(ax=ax,\n",
        "                              **common_options,\n",
        "                              transform=projection,\n",
        "                              levels=16,\n",
        "                              extend='neither',\n",
        "                              add_colorbar=False,\n",
        "                              add_labels=False)\n",
        "        ax.set_title('Sea Surface Temperature - Original Grid',\n",
        "                     fontsize=14,\n",
        "                     fontweight='bold',\n",
        "                     y=1.04)\n",
        "    else:\n",
        "        ax.scatter(newlon, newlat, c=newsst, **common_options, s=25)\n",
        "        ax.set_title(\n",
        "            'linint2pts - Bilinear interpolation for 3000 random locations',\n",
        "            fontsize=14,\n",
        "            fontweight='bold',\n",
        "            y=1.04)\n",
        "\n",
        "    # Add coastlines to the subplots\n",
        "    ax.coastlines()\n",
        "\n",
        "    # Use geocat.viz.util convenience function to add minor and major tick\n",
        "    # lines\n",
        "    gv.add_major_minor_ticks(ax)\n",
        "\n",
        "    # Use geocat.viz.util convenience function to set axes limits & tick\n",
        "    # values without calling several matplotlib functions\n",
        "    gv.set_axes_limits_and_ticks(ax,\n",
        "                                 ylim=(-60, 60),\n",
        "                                 xticks=np.linspace(-180, 180, 13),\n",
        "                                 yticks=np.linspace(-60, 60, 5))\n",
        "\n",
        "    # Use geocat.viz.util convenience function to make plots look like NCL\n",
        "    # plots by using latitude, longitude tick labels\n",
        "    gv.add_lat_lon_ticklabels(ax, zero_direction_label=False)\n",
        "\n",
        "# Add color bar and label details (title, size, etc.)\n",
        "cax = axgr.cbar_axes[0]\n",
        "cax.colorbar(p)\n",
        "axis = cax.axis[cax.orientation]\n",
        "axis.label.set_text(r'Temperature ($^{\\circ} C$)')\n",
        "axis.label.set_size(16)\n",
        "axis.major_ticklabels.set_size(10)\n",
        "\n",
        "plt.show()"
      ]
    }
  ],
  "metadata": {
    "kernelspec": {
      "display_name": "Python 3.9.6 64-bit",
      "language": "python",
      "name": "python3"
    },
    "language_info": {
      "codemirror_mode": {
        "name": "ipython",
        "version": 3
      },
      "file_extension": ".py",
      "mimetype": "text/x-python",
      "name": "python",
      "nbconvert_exporter": "python",
      "pygments_lexer": "ipython3",
      "version": "3.9.6"
    },
    "vscode": {
      "interpreter": {
        "hash": "31f2aee4e71d21fbe5cf8b01ff0e069b9275f58929596ceb00d14d90e3e16cd6"
      }
    }
  },
  "nbformat": 4,
  "nbformat_minor": 0
}

{
  "cells": [
    {
      "cell_type": "markdown",
      "metadata": {},
      "source": [
        "\n",
        "# Fourier Filter Example\n",
        "This script illustrates the following concepts:\n",
        "\n",
        "- Usage of geocat-comp's fourier_filter function\n",
        "- Usage of geocat-datafiles for accessing NetCDF files\n",
        "\n",
        "For more information on the `fourier_filter function` visit this [GitHub repository](https://github.com/NCAR/geocat-comp)."
      ]
    },
    {
      "cell_type": "markdown",
      "metadata": {},
      "source": [
        "## Import packages\n",
        "\n",
        "Dependencies:\n",
        " - geocat.comp\n",
        " - geocat.datafiles (Not necessary but for conveniently accessing the data file)\n",
        " - numpy\n",
        " - pandas\n",
        " - xarray\n",
        " - matplotlib"
      ]
    },
    {
      "cell_type": "code",
      "execution_count": null,
      "metadata": {
        "collapsed": false
      },
      "outputs": [],
      "source": [
        "import numpy as np\n",
        "import pandas as pd\n",
        "import matplotlib.pyplot as plt\n",
        "import xarray as xr\n",
        "\n",
        "import geocat.datafiles as gdf\n",
        "from geocat.comp import fourier_filter"
      ]
    },
    {
      "cell_type": "markdown",
      "metadata": {},
      "source": [
        "## Read in data\n",
        "\n",
        "Open a netCDF data file using xarray default engine and load the data into xarrays. In this example we're using the [`CO-OPS_9415020_wl.csv` file](https://github.com/NCAR/geocat-datafiles/tree/main/ascii_files)."
      ]
    },
    {
      "cell_type": "code",
      "execution_count": null,
      "metadata": {
        "collapsed": false
      },
      "outputs": [],
      "source": [
        "dataset = xr.DataArray(pd.read_csv(\n",
        "    gdf.get(\"ascii_files/CO-OPS_9415020_wl.csv\")))\n",
        "xr_data = dataset.loc[:, 'Verified (ft)']"
      ]
    },
    {
      "cell_type": "markdown",
      "metadata": {},
      "source": [
        "## Calculate something\n",
        "\n",
        "Describe the calculations"
      ]
    },
    {
      "cell_type": "code",
      "execution_count": null,
      "metadata": {
        "collapsed": false
      },
      "outputs": [],
      "source": [
        "# Generate figure with 1 subplot and set its size (width, height) in inches\n",
        "fig, ax = plt.subplots(1, 1, dpi=100, figsize=(8, 4), constrained_layout=True)\n",
        "\n",
        "# Load signal data and plot it\n",
        "no_tide = xr_data\n",
        "ax.plot(no_tide[2000:3000])\n",
        "\n",
        "# Plot filtered signal data using fourier_filter for the first set of cutoffs\n",
        "no_tide = fourier_filter(no_tide,\n",
        "                         data_freq,\n",
        "                         cutoff_frequency_low=cflow1,\n",
        "                         cutoff_frequency_high=cfhigh1,\n",
        "                         band_block=True)\n",
        "ax.plot(no_tide[2000:3000])\n",
        "\n",
        "# Plot filtered signal data using fourier_filter for the second set of cutoffs\n",
        "no_tide = fourier_filter(no_tide,\n",
        "                         data_freq,\n",
        "                         cutoff_frequency_low=cflow2,\n",
        "                         cutoff_frequency_high=cfhigh2,\n",
        "                         band_block=True)\n",
        "ax.plot(no_tide[2000:3000])\n",
        "\n",
        "# Show figure\n",
        "fig.show()\n",
        "\n",
        "# Generate figure with 2 by 1 subplots and set its size (width, height) in inches\n",
        "fig, axs = plt.subplots(2, 1, dpi=100, figsize=(8, 4), constrained_layout=True)\n",
        "\n",
        "# Plot the real set of data utilizing NumPy's Fourier Transform function using both\n",
        "# the original data and the fourier_filter applied to the second set of cutoffs\n",
        "axs[0].set_title('real')\n",
        "axs[0].plot(np.real(np.fft.fft(xr_data)[1:100]))\n",
        "axs[0].plot(np.real(np.fft.fft(no_tide)[1:100]))\n",
        "\n",
        "# Plot the imaginary set of data utilizing NumPy's Fourier Transform function using both\n",
        "# the original data and the fourier_filter applied to the second set of cutoffs\n",
        "axs[1].set_title('imag')\n",
        "axs[1].plot(np.imag(np.fft.fft(xr_data)[1:100]))\n",
        "axs[1].plot(np.imag(np.fft.fft(no_tide)[1:100]))\n",
        "\n",
        "# Show figure\n",
        "fig.show()\n",
        "\n",
        "# Generate figure with 2 by 1 subplots and set its size (width, height) in inches\n",
        "fig, axs = plt.subplots(2, 1, dpi=100, figsize=(8, 4), constrained_layout=True)\n",
        "\n",
        "# Define start and end of data indices\n",
        "start = 0\n",
        "end = -1\n",
        "\n",
        "# Plot the real and imaginary sets of data from the original and filtered data\n",
        "axs[0].set_title('real')\n",
        "axs[0].plot(np.real(xr_data)[start:end])\n",
        "axs[0].plot(np.real(no_tide)[start:end])\n",
        "axs[1].set_title('imag')\n",
        "axs[1].plot(np.imag(xr_data)[start:end])\n",
        "axs[1].plot(np.imag(no_tide)[start:end])\n",
        "\n",
        "# Show plot\n",
        "fig.show()\n"
      ]
    },
    {
      "cell_type": "markdown",
      "metadata": {},
      "source": [
        "## Plot\n",
        "\n",
        "Any explanatory text on the figures."
      ]
    }
  ],
  "metadata": {
    "kernelspec": {
      "display_name": "Python 3.9.6 64-bit",
      "language": "python",
      "name": "python3"
    },
    "language_info": {
      "codemirror_mode": {
        "name": "ipython",
        "version": 3
      },
      "file_extension": ".py",
      "mimetype": "text/x-python",
      "name": "python",
      "nbconvert_exporter": "python",
      "pygments_lexer": "ipython3",
      "version": "3.9.6"
    },
    "vscode": {
      "interpreter": {
        "hash": "31f2aee4e71d21fbe5cf8b01ff0e069b9275f58929596ceb00d14d90e3e16cd6"
      }
    }
  },
  "nbformat": 4,
  "nbformat_minor": 0
}

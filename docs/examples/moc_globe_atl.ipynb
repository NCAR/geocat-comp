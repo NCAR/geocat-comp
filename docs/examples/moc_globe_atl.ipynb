{
  "cells": [
    {
      "cell_type": "markdown",
      "metadata": {},
      "source": [
        "\n",
        "# Meridional Overturning Circulation\n",
        "This script illustrates the following concepts:\n",
        "\n",
        " - Usage of geocat-comp's [`moc_globe_atl`](https://geocat-comp.readthedocs.io/en/stable/user_api/generated/geocat.comp.moc_globe_atl.html) function\n",
        "- Computing POP MOC field offline from POP netcdf history files (designed for the CESM4 ocean component)\n",
        "- Usage of geocat-datafiles for accessing NetCDF files\n",
        "- Usage of geocat-viz plotting convenience functions"
      ]
    },
    {
      "cell_type": "markdown",
      "metadata": {},
      "source": [
        "## Import packages\n",
        "\n",
        "Dependencies:\n",
        "\n",
        "\n",
        "- geocat.comp\n",
        "- geocat.datafiles (Not necessary but for conveniently accessing the NetCDF data file)\n",
        "- numpy\n",
        "- xarray\n",
        "\n"
      ]
    },
    {
      "cell_type": "code",
      "execution_count": null,
      "metadata": {
        "collapsed": false
      },
      "outputs": [],
      "source": [
        "import numpy as np\n",
        "import xarray as xr\n",
        "\n",
        "import geocat.datafiles as gdf\n",
        "from geocat.comp import moc_globe_atl"
      ]
    },
    {
      "cell_type": "markdown",
      "metadata": {},
      "source": [
        "## Read in data\n",
        "\n",
        "Say something about the example data file."
      ]
    },
    {
      "cell_type": "code",
      "execution_count": null,
      "metadata": {
        "collapsed": false
      },
      "outputs": [],
      "source": [
        "# Open a netCDF data file using xarray default engine and load the data\n",
        "# into xarrays\n",
        "ds = xr.open_dataset(gdf.get('netcdf_files/tavg_downsized.nc'))\n",
        "\n",
        "lat_aux_grid = ds.lat_aux_grid[:].values.astype(np.double)\n",
        "w_e = ds.WVEL[:].values.astype(np.double)\n",
        "w_i = ds.WISOP[:].values.astype(np.double)\n",
        "w_sm = ds.WSUBM[:].values.astype(np.double)\n",
        "tarea = ds.TAREA[:]\n",
        "rmask = ds.REGION_MASK[:]\n",
        "kmt = ds.KMT[:]\n",
        "tlat = ds.TLAT[:].values.astype(np.double)\n",
        "\n",
        "# Read important parameters from input data\n",
        "nyaux = lat_aux_grid.shape[0]  # 395\n",
        "km = np.max(kmt.values).astype(np.int)\n",
        "ny = tarea.shape[0]\n",
        "nx = tarea.shape[1]"
      ]
    },
    {
      "cell_type": "markdown",
      "metadata": {},
      "source": [
        "## Calculate Meridional Overturning Circulation (MOC) for the Globe and the Atlantic\n",
        "\n",
        "Describe what MOC is and the requirements of the function."
      ]
    },
    {
      "cell_type": "code",
      "execution_count": null,
      "metadata": {
        "collapsed": false
      },
      "outputs": [],
      "source": [
        "# Generate rmlak: region_mask_lat_aux\n",
        "rmlak = np.tile(rmask, (2, 1, 1)).astype(np.int32)\n",
        "rmlak[0, :, :] = np.where(rmask > 0, 1, 0)\n",
        "rmlak[1, :, :] = np.where(np.logical_and(rmask >= 6, rmask <= 11), 1, 0)\n",
        "# todo Convert rmlak to xArray\n",
        "\n",
        "# Generate a_wvel, a_bolus, and a_submeso\n",
        "k3d = np.repeat(np.repeat(np.arange(0, km, 1).reshape(km, 1), ny,\n",
        "                          axis=1)[:, :, np.newaxis],\n",
        "                nx,\n",
        "                axis=2)\n",
        "kmt3d = np.repeat(kmt.values[np.newaxis, :, :], km, axis=0)\n",
        "tarea3d = np.repeat(tarea.values[np.newaxis, :, :], km, axis=0)\n",
        "ocean = k3d <= kmt3d\n",
        "\n",
        "a_wvel = np.where(ocean, w_e[0, :, :, :] * tarea3d, 0.0)\n",
        "a_bolus = np.where(ocean, w_i[0, :, :, :] * tarea3d, 0.0)\n",
        "a_submeso = np.where(ocean, w_sm[0, :, :, :] * tarea3d, 0.0)"
      ]
    },
    {
      "cell_type": "markdown",
      "metadata": {},
      "source": [
        "Say something about the function"
      ]
    },
    {
      "cell_type": "code",
      "execution_count": null,
      "metadata": {},
      "outputs": [],
      "source": [
        "# Invoke `moc_globe_atl` from `geocat-comp`\n",
        "result = moc_globe_atl(lat_aux_grid,\n",
        "                       a_wvel,\n",
        "                       a_bolus,\n",
        "                       a_submeso,\n",
        "                       tlat,\n",
        "                       rmlak,\n",
        "                       msg=None,\n",
        "                       meta=False)\n",
        "\n",
        "print(\"moc_globe_atl successfully generated output.\")"
      ]
    }
  ],
  "metadata": {
    "kernelspec": {
      "display_name": "Python 3.9.6 64-bit",
      "language": "python",
      "name": "python3"
    },
    "language_info": {
      "codemirror_mode": {
        "name": "ipython",
        "version": 3
      },
      "file_extension": ".py",
      "mimetype": "text/x-python",
      "name": "python",
      "nbconvert_exporter": "python",
      "pygments_lexer": "ipython3",
      "version": "3.9.6"
    },
    "vscode": {
      "interpreter": {
        "hash": "31f2aee4e71d21fbe5cf8b01ff0e069b9275f58929596ceb00d14d90e3e16cd6"
      }
    }
  },
  "nbformat": 4,
  "nbformat_minor": 0
}
